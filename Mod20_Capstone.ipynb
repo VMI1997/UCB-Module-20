{
  "nbformat": 4,
  "nbformat_minor": 0,
  "metadata": {
    "colab": {
      "provenance": [],
      "authorship_tag": "ABX9TyPg0APMXhBZXYNConhPW5j6",
      "include_colab_link": true
    },
    "kernelspec": {
      "name": "python3",
      "display_name": "Python 3"
    },
    "language_info": {
      "name": "python"
    }
  },
  "cells": [
    {
      "cell_type": "markdown",
      "metadata": {
        "id": "view-in-github",
        "colab_type": "text"
      },
      "source": [
        "<a href=\"https://colab.research.google.com/github/VMI1997/UCB-Module-20/blob/main/Mod20_Capstone.ipynb\" target=\"_parent\"><img src=\"https://colab.research.google.com/assets/colab-badge.svg\" alt=\"Open In Colab\"/></a>"
      ]
    },
    {
      "cell_type": "markdown",
      "source": [
        "**Introduction:**\n",
        "\n",
        "**Problem Statement:**  The loss of customers is a costly issues for banks that depend on customer deposits to support lending.  Further, the cost of acquiring new customers to account for lost customers is very expensive and detrimental to the business of banking.   For these reasons, having a model to predict customer attrition is of high importance.  Having such a model would allow the bank to proactively target customers at risk of attrition and apply retention techniques to mitigate attrition risk.\n",
        "\n",
        "**Explanation of Approach:**  In this exercise, we are going to leverage readily available data about a portion of our bank customers - both those that have attrited and those that remain.   We are going to use this data to build a simplistic model with the goal of predicting those customers that are likely to attrite.  We are goign to begin with a logistic regression model for this purpose and apply the techniques used in our coursework thus far."
      ],
      "metadata": {
        "id": "EYeglaAaeI3i"
      }
    },
    {
      "cell_type": "markdown",
      "source": [
        "**Import Packages that will be needed for this Project**"
      ],
      "metadata": {
        "id": "6gPPgu58fUZH"
      }
    },
    {
      "cell_type": "code",
      "source": [
        "import pandas as pd\n",
        "import matplotlib.pyplot as plt\n",
        "import seaborn as sns\n",
        "import numpy as np\n",
        "from sklearn.model_selection import train_test_split\n",
        "from sklearn.linear_model import LogisticRegression\n",
        "from sklearn.metrics import mean_squared_error, r2_score\n",
        "from sklearn.metrics import confusion_matrix, ConfusionMatrixDisplay\n",
        "import warnings\n",
        "warnings.filterwarnings('ignore')"
      ],
      "metadata": {
        "id": "zjqJ0HJwfaDJ"
      },
      "execution_count": 112,
      "outputs": []
    },
    {
      "cell_type": "markdown",
      "source": [
        "**Import customer data from CSV (fully anonymized data - no sensitive data exists within)**"
      ],
      "metadata": {
        "id": "XgjBSpMHfzbp"
      }
    },
    {
      "cell_type": "code",
      "execution_count": 113,
      "metadata": {
        "colab": {
          "base_uri": "https://localhost:8080/",
          "height": 256
        },
        "id": "cnO6R3deejWM",
        "outputId": "c2ae869a-bf9c-40da-b285-bbad7c63a2c8"
      },
      "outputs": [
        {
          "output_type": "execute_result",
          "data": {
            "text/plain": [
              "   row_number_acct application_code opened_month_end_date  closed_ind  \\\n",
              "0                1               DD             1/31/2006         NaN   \n",
              "1                2               DD             4/30/2019         NaN   \n",
              "2                3               DD             3/31/2017         NaN   \n",
              "3                4               DD            10/31/2013         NaN   \n",
              "4                5               DD             4/30/2021         NaN   \n",
              "\n",
              "  closed_month_end_date event_month  months_open  event_month_branch_number  \\\n",
              "0                   NaN  12/31/2024          227                        753   \n",
              "1                   NaN  12/31/2024           68                        781   \n",
              "2                   NaN  12/31/2024           93                        702   \n",
              "3                   NaN  12/31/2024          134                         13   \n",
              "4                   NaN  12/31/2024           44                        604   \n",
              "\n",
              "  event_month_product_code event_month_product_description  ...  \\\n",
              "0                        I               INTEREST CHECKING  ...   \n",
              "1                        N                   FREE CHECKING  ...   \n",
              "2                        I               INTEREST CHECKING  ...   \n",
              "3                        N                   FREE CHECKING  ...   \n",
              "4                        N                   FREE CHECKING  ...   \n",
              "\n",
              "  prior_month_3_online_banking_flag prior_month_4_online_banking_flag  \\\n",
              "0                                 N                                 N   \n",
              "1                                 Y                                 Y   \n",
              "2                                 Y                                 Y   \n",
              "3                                 N                                 N   \n",
              "4                                 Y                                 Y   \n",
              "\n",
              "  prior_month_5_online_banking_flag prior_month_6_online_banking_flag  \\\n",
              "0                                 N                                 N   \n",
              "1                                 Y                                 Y   \n",
              "2                                 Y                                 Y   \n",
              "3                                 N                                 N   \n",
              "4                                 Y                                 Y   \n",
              "\n",
              "  prior_month_1_e_statement_flag prior_month_2_e_statement_flag  \\\n",
              "0                              Y                              Y   \n",
              "1                              N                              N   \n",
              "2                              Y                              Y   \n",
              "3                              N                              N   \n",
              "4                              Y                              Y   \n",
              "\n",
              "  prior_month_3_e_statement_flag  prior_month_4_e_statement_flag  \\\n",
              "0                              Y                               Y   \n",
              "1                              N                               N   \n",
              "2                              Y                               Y   \n",
              "3                              N                               N   \n",
              "4                              Y                               Y   \n",
              "\n",
              "   prior_month_5_e_statement_flag  prior_month_6_e_statement_flag  \n",
              "0                               Y                               Y  \n",
              "1                               N                               N  \n",
              "2                               Y                               Y  \n",
              "3                               N                               N  \n",
              "4                               Y                               Y  \n",
              "\n",
              "[5 rows x 65 columns]"
            ],
            "text/html": [
              "\n",
              "  <div id=\"df-441b86a1-ace4-44e9-a368-eded04d34cbe\" class=\"colab-df-container\">\n",
              "    <div>\n",
              "<style scoped>\n",
              "    .dataframe tbody tr th:only-of-type {\n",
              "        vertical-align: middle;\n",
              "    }\n",
              "\n",
              "    .dataframe tbody tr th {\n",
              "        vertical-align: top;\n",
              "    }\n",
              "\n",
              "    .dataframe thead th {\n",
              "        text-align: right;\n",
              "    }\n",
              "</style>\n",
              "<table border=\"1\" class=\"dataframe\">\n",
              "  <thead>\n",
              "    <tr style=\"text-align: right;\">\n",
              "      <th></th>\n",
              "      <th>row_number_acct</th>\n",
              "      <th>application_code</th>\n",
              "      <th>opened_month_end_date</th>\n",
              "      <th>closed_ind</th>\n",
              "      <th>closed_month_end_date</th>\n",
              "      <th>event_month</th>\n",
              "      <th>months_open</th>\n",
              "      <th>event_month_branch_number</th>\n",
              "      <th>event_month_product_code</th>\n",
              "      <th>event_month_product_description</th>\n",
              "      <th>...</th>\n",
              "      <th>prior_month_3_online_banking_flag</th>\n",
              "      <th>prior_month_4_online_banking_flag</th>\n",
              "      <th>prior_month_5_online_banking_flag</th>\n",
              "      <th>prior_month_6_online_banking_flag</th>\n",
              "      <th>prior_month_1_e_statement_flag</th>\n",
              "      <th>prior_month_2_e_statement_flag</th>\n",
              "      <th>prior_month_3_e_statement_flag</th>\n",
              "      <th>prior_month_4_e_statement_flag</th>\n",
              "      <th>prior_month_5_e_statement_flag</th>\n",
              "      <th>prior_month_6_e_statement_flag</th>\n",
              "    </tr>\n",
              "  </thead>\n",
              "  <tbody>\n",
              "    <tr>\n",
              "      <th>0</th>\n",
              "      <td>1</td>\n",
              "      <td>DD</td>\n",
              "      <td>1/31/2006</td>\n",
              "      <td>NaN</td>\n",
              "      <td>NaN</td>\n",
              "      <td>12/31/2024</td>\n",
              "      <td>227</td>\n",
              "      <td>753</td>\n",
              "      <td>I</td>\n",
              "      <td>INTEREST CHECKING</td>\n",
              "      <td>...</td>\n",
              "      <td>N</td>\n",
              "      <td>N</td>\n",
              "      <td>N</td>\n",
              "      <td>N</td>\n",
              "      <td>Y</td>\n",
              "      <td>Y</td>\n",
              "      <td>Y</td>\n",
              "      <td>Y</td>\n",
              "      <td>Y</td>\n",
              "      <td>Y</td>\n",
              "    </tr>\n",
              "    <tr>\n",
              "      <th>1</th>\n",
              "      <td>2</td>\n",
              "      <td>DD</td>\n",
              "      <td>4/30/2019</td>\n",
              "      <td>NaN</td>\n",
              "      <td>NaN</td>\n",
              "      <td>12/31/2024</td>\n",
              "      <td>68</td>\n",
              "      <td>781</td>\n",
              "      <td>N</td>\n",
              "      <td>FREE CHECKING</td>\n",
              "      <td>...</td>\n",
              "      <td>Y</td>\n",
              "      <td>Y</td>\n",
              "      <td>Y</td>\n",
              "      <td>Y</td>\n",
              "      <td>N</td>\n",
              "      <td>N</td>\n",
              "      <td>N</td>\n",
              "      <td>N</td>\n",
              "      <td>N</td>\n",
              "      <td>N</td>\n",
              "    </tr>\n",
              "    <tr>\n",
              "      <th>2</th>\n",
              "      <td>3</td>\n",
              "      <td>DD</td>\n",
              "      <td>3/31/2017</td>\n",
              "      <td>NaN</td>\n",
              "      <td>NaN</td>\n",
              "      <td>12/31/2024</td>\n",
              "      <td>93</td>\n",
              "      <td>702</td>\n",
              "      <td>I</td>\n",
              "      <td>INTEREST CHECKING</td>\n",
              "      <td>...</td>\n",
              "      <td>Y</td>\n",
              "      <td>Y</td>\n",
              "      <td>Y</td>\n",
              "      <td>Y</td>\n",
              "      <td>Y</td>\n",
              "      <td>Y</td>\n",
              "      <td>Y</td>\n",
              "      <td>Y</td>\n",
              "      <td>Y</td>\n",
              "      <td>Y</td>\n",
              "    </tr>\n",
              "    <tr>\n",
              "      <th>3</th>\n",
              "      <td>4</td>\n",
              "      <td>DD</td>\n",
              "      <td>10/31/2013</td>\n",
              "      <td>NaN</td>\n",
              "      <td>NaN</td>\n",
              "      <td>12/31/2024</td>\n",
              "      <td>134</td>\n",
              "      <td>13</td>\n",
              "      <td>N</td>\n",
              "      <td>FREE CHECKING</td>\n",
              "      <td>...</td>\n",
              "      <td>N</td>\n",
              "      <td>N</td>\n",
              "      <td>N</td>\n",
              "      <td>N</td>\n",
              "      <td>N</td>\n",
              "      <td>N</td>\n",
              "      <td>N</td>\n",
              "      <td>N</td>\n",
              "      <td>N</td>\n",
              "      <td>N</td>\n",
              "    </tr>\n",
              "    <tr>\n",
              "      <th>4</th>\n",
              "      <td>5</td>\n",
              "      <td>DD</td>\n",
              "      <td>4/30/2021</td>\n",
              "      <td>NaN</td>\n",
              "      <td>NaN</td>\n",
              "      <td>12/31/2024</td>\n",
              "      <td>44</td>\n",
              "      <td>604</td>\n",
              "      <td>N</td>\n",
              "      <td>FREE CHECKING</td>\n",
              "      <td>...</td>\n",
              "      <td>Y</td>\n",
              "      <td>Y</td>\n",
              "      <td>Y</td>\n",
              "      <td>Y</td>\n",
              "      <td>Y</td>\n",
              "      <td>Y</td>\n",
              "      <td>Y</td>\n",
              "      <td>Y</td>\n",
              "      <td>Y</td>\n",
              "      <td>Y</td>\n",
              "    </tr>\n",
              "  </tbody>\n",
              "</table>\n",
              "<p>5 rows × 65 columns</p>\n",
              "</div>\n",
              "    <div class=\"colab-df-buttons\">\n",
              "\n",
              "  <div class=\"colab-df-container\">\n",
              "    <button class=\"colab-df-convert\" onclick=\"convertToInteractive('df-441b86a1-ace4-44e9-a368-eded04d34cbe')\"\n",
              "            title=\"Convert this dataframe to an interactive table.\"\n",
              "            style=\"display:none;\">\n",
              "\n",
              "  <svg xmlns=\"http://www.w3.org/2000/svg\" height=\"24px\" viewBox=\"0 -960 960 960\">\n",
              "    <path d=\"M120-120v-720h720v720H120Zm60-500h600v-160H180v160Zm220 220h160v-160H400v160Zm0 220h160v-160H400v160ZM180-400h160v-160H180v160Zm440 0h160v-160H620v160ZM180-180h160v-160H180v160Zm440 0h160v-160H620v160Z\"/>\n",
              "  </svg>\n",
              "    </button>\n",
              "\n",
              "  <style>\n",
              "    .colab-df-container {\n",
              "      display:flex;\n",
              "      gap: 12px;\n",
              "    }\n",
              "\n",
              "    .colab-df-convert {\n",
              "      background-color: #E8F0FE;\n",
              "      border: none;\n",
              "      border-radius: 50%;\n",
              "      cursor: pointer;\n",
              "      display: none;\n",
              "      fill: #1967D2;\n",
              "      height: 32px;\n",
              "      padding: 0 0 0 0;\n",
              "      width: 32px;\n",
              "    }\n",
              "\n",
              "    .colab-df-convert:hover {\n",
              "      background-color: #E2EBFA;\n",
              "      box-shadow: 0px 1px 2px rgba(60, 64, 67, 0.3), 0px 1px 3px 1px rgba(60, 64, 67, 0.15);\n",
              "      fill: #174EA6;\n",
              "    }\n",
              "\n",
              "    .colab-df-buttons div {\n",
              "      margin-bottom: 4px;\n",
              "    }\n",
              "\n",
              "    [theme=dark] .colab-df-convert {\n",
              "      background-color: #3B4455;\n",
              "      fill: #D2E3FC;\n",
              "    }\n",
              "\n",
              "    [theme=dark] .colab-df-convert:hover {\n",
              "      background-color: #434B5C;\n",
              "      box-shadow: 0px 1px 3px 1px rgba(0, 0, 0, 0.15);\n",
              "      filter: drop-shadow(0px 1px 2px rgba(0, 0, 0, 0.3));\n",
              "      fill: #FFFFFF;\n",
              "    }\n",
              "  </style>\n",
              "\n",
              "    <script>\n",
              "      const buttonEl =\n",
              "        document.querySelector('#df-441b86a1-ace4-44e9-a368-eded04d34cbe button.colab-df-convert');\n",
              "      buttonEl.style.display =\n",
              "        google.colab.kernel.accessAllowed ? 'block' : 'none';\n",
              "\n",
              "      async function convertToInteractive(key) {\n",
              "        const element = document.querySelector('#df-441b86a1-ace4-44e9-a368-eded04d34cbe');\n",
              "        const dataTable =\n",
              "          await google.colab.kernel.invokeFunction('convertToInteractive',\n",
              "                                                    [key], {});\n",
              "        if (!dataTable) return;\n",
              "\n",
              "        const docLinkHtml = 'Like what you see? Visit the ' +\n",
              "          '<a target=\"_blank\" href=https://colab.research.google.com/notebooks/data_table.ipynb>data table notebook</a>'\n",
              "          + ' to learn more about interactive tables.';\n",
              "        element.innerHTML = '';\n",
              "        dataTable['output_type'] = 'display_data';\n",
              "        await google.colab.output.renderOutput(dataTable, element);\n",
              "        const docLink = document.createElement('div');\n",
              "        docLink.innerHTML = docLinkHtml;\n",
              "        element.appendChild(docLink);\n",
              "      }\n",
              "    </script>\n",
              "  </div>\n",
              "\n",
              "\n",
              "<div id=\"df-d72e4ded-4e9c-48e3-9ede-850766ae9f89\">\n",
              "  <button class=\"colab-df-quickchart\" onclick=\"quickchart('df-d72e4ded-4e9c-48e3-9ede-850766ae9f89')\"\n",
              "            title=\"Suggest charts\"\n",
              "            style=\"display:none;\">\n",
              "\n",
              "<svg xmlns=\"http://www.w3.org/2000/svg\" height=\"24px\"viewBox=\"0 0 24 24\"\n",
              "     width=\"24px\">\n",
              "    <g>\n",
              "        <path d=\"M19 3H5c-1.1 0-2 .9-2 2v14c0 1.1.9 2 2 2h14c1.1 0 2-.9 2-2V5c0-1.1-.9-2-2-2zM9 17H7v-7h2v7zm4 0h-2V7h2v10zm4 0h-2v-4h2v4z\"/>\n",
              "    </g>\n",
              "</svg>\n",
              "  </button>\n",
              "\n",
              "<style>\n",
              "  .colab-df-quickchart {\n",
              "      --bg-color: #E8F0FE;\n",
              "      --fill-color: #1967D2;\n",
              "      --hover-bg-color: #E2EBFA;\n",
              "      --hover-fill-color: #174EA6;\n",
              "      --disabled-fill-color: #AAA;\n",
              "      --disabled-bg-color: #DDD;\n",
              "  }\n",
              "\n",
              "  [theme=dark] .colab-df-quickchart {\n",
              "      --bg-color: #3B4455;\n",
              "      --fill-color: #D2E3FC;\n",
              "      --hover-bg-color: #434B5C;\n",
              "      --hover-fill-color: #FFFFFF;\n",
              "      --disabled-bg-color: #3B4455;\n",
              "      --disabled-fill-color: #666;\n",
              "  }\n",
              "\n",
              "  .colab-df-quickchart {\n",
              "    background-color: var(--bg-color);\n",
              "    border: none;\n",
              "    border-radius: 50%;\n",
              "    cursor: pointer;\n",
              "    display: none;\n",
              "    fill: var(--fill-color);\n",
              "    height: 32px;\n",
              "    padding: 0;\n",
              "    width: 32px;\n",
              "  }\n",
              "\n",
              "  .colab-df-quickchart:hover {\n",
              "    background-color: var(--hover-bg-color);\n",
              "    box-shadow: 0 1px 2px rgba(60, 64, 67, 0.3), 0 1px 3px 1px rgba(60, 64, 67, 0.15);\n",
              "    fill: var(--button-hover-fill-color);\n",
              "  }\n",
              "\n",
              "  .colab-df-quickchart-complete:disabled,\n",
              "  .colab-df-quickchart-complete:disabled:hover {\n",
              "    background-color: var(--disabled-bg-color);\n",
              "    fill: var(--disabled-fill-color);\n",
              "    box-shadow: none;\n",
              "  }\n",
              "\n",
              "  .colab-df-spinner {\n",
              "    border: 2px solid var(--fill-color);\n",
              "    border-color: transparent;\n",
              "    border-bottom-color: var(--fill-color);\n",
              "    animation:\n",
              "      spin 1s steps(1) infinite;\n",
              "  }\n",
              "\n",
              "  @keyframes spin {\n",
              "    0% {\n",
              "      border-color: transparent;\n",
              "      border-bottom-color: var(--fill-color);\n",
              "      border-left-color: var(--fill-color);\n",
              "    }\n",
              "    20% {\n",
              "      border-color: transparent;\n",
              "      border-left-color: var(--fill-color);\n",
              "      border-top-color: var(--fill-color);\n",
              "    }\n",
              "    30% {\n",
              "      border-color: transparent;\n",
              "      border-left-color: var(--fill-color);\n",
              "      border-top-color: var(--fill-color);\n",
              "      border-right-color: var(--fill-color);\n",
              "    }\n",
              "    40% {\n",
              "      border-color: transparent;\n",
              "      border-right-color: var(--fill-color);\n",
              "      border-top-color: var(--fill-color);\n",
              "    }\n",
              "    60% {\n",
              "      border-color: transparent;\n",
              "      border-right-color: var(--fill-color);\n",
              "    }\n",
              "    80% {\n",
              "      border-color: transparent;\n",
              "      border-right-color: var(--fill-color);\n",
              "      border-bottom-color: var(--fill-color);\n",
              "    }\n",
              "    90% {\n",
              "      border-color: transparent;\n",
              "      border-bottom-color: var(--fill-color);\n",
              "    }\n",
              "  }\n",
              "</style>\n",
              "\n",
              "  <script>\n",
              "    async function quickchart(key) {\n",
              "      const quickchartButtonEl =\n",
              "        document.querySelector('#' + key + ' button');\n",
              "      quickchartButtonEl.disabled = true;  // To prevent multiple clicks.\n",
              "      quickchartButtonEl.classList.add('colab-df-spinner');\n",
              "      try {\n",
              "        const charts = await google.colab.kernel.invokeFunction(\n",
              "            'suggestCharts', [key], {});\n",
              "      } catch (error) {\n",
              "        console.error('Error during call to suggestCharts:', error);\n",
              "      }\n",
              "      quickchartButtonEl.classList.remove('colab-df-spinner');\n",
              "      quickchartButtonEl.classList.add('colab-df-quickchart-complete');\n",
              "    }\n",
              "    (() => {\n",
              "      let quickchartButtonEl =\n",
              "        document.querySelector('#df-d72e4ded-4e9c-48e3-9ede-850766ae9f89 button');\n",
              "      quickchartButtonEl.style.display =\n",
              "        google.colab.kernel.accessAllowed ? 'block' : 'none';\n",
              "    })();\n",
              "  </script>\n",
              "</div>\n",
              "\n",
              "    </div>\n",
              "  </div>\n"
            ],
            "application/vnd.google.colaboratory.intrinsic+json": {
              "type": "dataframe",
              "variable_name": "cust_data"
            }
          },
          "metadata": {},
          "execution_count": 113
        }
      ],
      "source": [
        "\n",
        "cust_data = pd.read_csv('cust_data.csv')\n",
        "cust_data.head()\n"
      ]
    },
    {
      "cell_type": "markdown",
      "source": [
        "**Data Analysis and Visualizations**\n",
        "\n",
        "\n",
        "*   Basic data analysis around fields, values and quality - general understanding of the data available\n",
        "*   Examine key fields that are anticipated to be key drivers of attrition (fees/refunds, tenure, direct deposit, average balances, online banking)\n",
        "\n",
        "**Key Findings:**\n",
        "\n",
        "\n",
        "*   There are 41,352 customer records within this dataset (this is a subset of the total data set that we assume is representative)\n",
        "*   There are 12,010 records for closed accounts - the remainder are for accounts that remained open at this snapshot\n",
        "*   There are a number of \"flag\" fields that will need to be manipulated\n",
        "*   There are a number of \"snapshot\" fields that reflect values for a 6 month period prior to closure/snapshot - we will likely want to look at most recent and/or \"deltas\" between these to see how they \"change\"\n",
        "*   There are a number of NaN values that we will need to deal with in our data preparation\n",
        "*   List item\n",
        "\n",
        "\n",
        "\n",
        "\n",
        "\n",
        "\n",
        "\n",
        "\n"
      ],
      "metadata": {
        "id": "umBqvcLEf_JR"
      }
    },
    {
      "cell_type": "code",
      "source": [
        "cust_data.info()"
      ],
      "metadata": {
        "colab": {
          "base_uri": "https://localhost:8080/"
        },
        "id": "04WQnhWfgtBL",
        "outputId": "e195f0e4-0b79-4346-bdfb-100b72676167"
      },
      "execution_count": 114,
      "outputs": [
        {
          "output_type": "stream",
          "name": "stdout",
          "text": [
            "<class 'pandas.core.frame.DataFrame'>\n",
            "RangeIndex: 41352 entries, 0 to 41351\n",
            "Data columns (total 65 columns):\n",
            " #   Column                              Non-Null Count  Dtype  \n",
            "---  ------                              --------------  -----  \n",
            " 0   row_number_acct                     41352 non-null  int64  \n",
            " 1   application_code                    41352 non-null  object \n",
            " 2   opened_month_end_date               41352 non-null  object \n",
            " 3   closed_ind                          12010 non-null  float64\n",
            " 4   closed_month_end_date               12010 non-null  object \n",
            " 5   event_month                         41352 non-null  object \n",
            " 6   months_open                         41352 non-null  int64  \n",
            " 7   event_month_branch_number           41352 non-null  int64  \n",
            " 8   event_month_product_code            41352 non-null  object \n",
            " 9   event_month_product_description     41352 non-null  object \n",
            " 10  event_month_product_category        41352 non-null  object \n",
            " 11  prior_month_1_to_event_date         41352 non-null  object \n",
            " 12  prior_month_2_to_event_date         41352 non-null  object \n",
            " 13  prior_month_3_to_event_date         41352 non-null  object \n",
            " 14  prior_month_4_to_event_date         41352 non-null  object \n",
            " 15  prior_month_5_to_event_date         41352 non-null  object \n",
            " 16  prior_month_6_to_event_date         41352 non-null  object \n",
            " 17  prior_month_1_direct_deposit_total  22218 non-null  float64\n",
            " 18  prior_month_2_direct_deposit_total  24736 non-null  float64\n",
            " 19  prior_month_3_direct_deposit_total  23919 non-null  float64\n",
            " 20  prior_month_4_direct_deposit_total  24096 non-null  float64\n",
            " 21  prior_month_5_direct_deposit_total  23894 non-null  float64\n",
            " 22  prior_month_6_direct_deposit_total  23258 non-null  float64\n",
            " 23  prior_month_1_fee_total             22218 non-null  float64\n",
            " 24  prior_month_2_fee_total             24736 non-null  float64\n",
            " 25  prior_month_3_fee_total             23919 non-null  float64\n",
            " 26  prior_month_4_fee_total             24096 non-null  float64\n",
            " 27  prior_month_5_fee_total             23894 non-null  float64\n",
            " 28  prior_month_6_fee_total             23258 non-null  float64\n",
            " 29  prior_month_1_fee_refund_total      22218 non-null  float64\n",
            " 30  prior_month_2_fee_refund_total      24736 non-null  float64\n",
            " 31  prior_month_3_fee_refund_total      23919 non-null  float64\n",
            " 32  prior_month_4_fee_refund_total      24096 non-null  float64\n",
            " 33  prior_month_5_fee_refund_total      23894 non-null  float64\n",
            " 34  prior_month_6_fee_refund_total      23258 non-null  float64\n",
            " 35  prior_month_1_average_balance       41352 non-null  int64  \n",
            " 36  prior_month_2_average_balance       41330 non-null  float64\n",
            " 37  prior_month_3_average_balance       40660 non-null  float64\n",
            " 38  prior_month_4_average_balance       40144 non-null  float64\n",
            " 39  prior_month_5_average_balance       39597 non-null  float64\n",
            " 40  prior_month_6_average_balance       38855 non-null  float64\n",
            " 41  prior_month_1_interest_rate         41352 non-null  float64\n",
            " 42  prior_month_2_interest_rate         41330 non-null  float64\n",
            " 43  prior_month_3_interest_rate         40660 non-null  float64\n",
            " 44  prior_month_4_interest_rate         40144 non-null  float64\n",
            " 45  prior_month_5_interest_rate         39597 non-null  float64\n",
            " 46  prior_month_6_interest_rate         38855 non-null  float64\n",
            " 47  prior_month_1_od_nsf_items          41352 non-null  int64  \n",
            " 48  prior_month_2_od_nsf_items          41330 non-null  float64\n",
            " 49  prior_month_3_od_nsf_items          40660 non-null  float64\n",
            " 50  prior_month_4_od_nsf_items          40144 non-null  float64\n",
            " 51  prior_month_5_od_nsf_items          39597 non-null  float64\n",
            " 52  prior_month_6_od_nsf_items          38855 non-null  float64\n",
            " 53  prior_month_1_online_banking_flag   41351 non-null  object \n",
            " 54  prior_month_2_online_banking_flag   41329 non-null  object \n",
            " 55  prior_month_3_online_banking_flag   40659 non-null  object \n",
            " 56  prior_month_4_online_banking_flag   40143 non-null  object \n",
            " 57  prior_month_5_online_banking_flag   39596 non-null  object \n",
            " 58  prior_month_6_online_banking_flag   38854 non-null  object \n",
            " 59  prior_month_1_e_statement_flag      41352 non-null  object \n",
            " 60  prior_month_2_e_statement_flag      41330 non-null  object \n",
            " 61  prior_month_3_e_statement_flag      40660 non-null  object \n",
            " 62  prior_month_4_e_statement_flag      40144 non-null  object \n",
            " 63  prior_month_5_e_statement_flag      39597 non-null  object \n",
            " 64  prior_month_6_e_statement_flag      38855 non-null  object \n",
            "dtypes: float64(35), int64(5), object(25)\n",
            "memory usage: 20.5+ MB\n"
          ]
        }
      ]
    },
    {
      "cell_type": "code",
      "source": [
        "cust_data['closed_ind'].value_counts()"
      ],
      "metadata": {
        "colab": {
          "base_uri": "https://localhost:8080/",
          "height": 147
        },
        "id": "4D_7RA_RhH0Q",
        "outputId": "575e01d3-4698-47b5-9def-d171b346ee3b"
      },
      "execution_count": 115,
      "outputs": [
        {
          "output_type": "execute_result",
          "data": {
            "text/plain": [
              "closed_ind\n",
              "1.0    12010\n",
              "Name: count, dtype: int64"
            ],
            "text/html": [
              "<div>\n",
              "<style scoped>\n",
              "    .dataframe tbody tr th:only-of-type {\n",
              "        vertical-align: middle;\n",
              "    }\n",
              "\n",
              "    .dataframe tbody tr th {\n",
              "        vertical-align: top;\n",
              "    }\n",
              "\n",
              "    .dataframe thead th {\n",
              "        text-align: right;\n",
              "    }\n",
              "</style>\n",
              "<table border=\"1\" class=\"dataframe\">\n",
              "  <thead>\n",
              "    <tr style=\"text-align: right;\">\n",
              "      <th></th>\n",
              "      <th>count</th>\n",
              "    </tr>\n",
              "    <tr>\n",
              "      <th>closed_ind</th>\n",
              "      <th></th>\n",
              "    </tr>\n",
              "  </thead>\n",
              "  <tbody>\n",
              "    <tr>\n",
              "      <th>1.0</th>\n",
              "      <td>12010</td>\n",
              "    </tr>\n",
              "  </tbody>\n",
              "</table>\n",
              "</div><br><label><b>dtype:</b> int64</label>"
            ]
          },
          "metadata": {},
          "execution_count": 115
        }
      ]
    },
    {
      "cell_type": "markdown",
      "source": [],
      "metadata": {
        "id": "x0Q_0uiVg0xY"
      }
    },
    {
      "cell_type": "code",
      "source": [
        "nan_count = cust_data.isna().sum()\n",
        "\n",
        "print(nan_count)"
      ],
      "metadata": {
        "colab": {
          "base_uri": "https://localhost:8080/"
        },
        "id": "JXTCUtHZiTWA",
        "outputId": "767acbcd-37c8-4b46-ff20-98e8253c2f58"
      },
      "execution_count": 116,
      "outputs": [
        {
          "output_type": "stream",
          "name": "stdout",
          "text": [
            "row_number_acct                       0\n",
            "application_code                      0\n",
            "opened_month_end_date                 0\n",
            "closed_ind                        29342\n",
            "closed_month_end_date             29342\n",
            "                                  ...  \n",
            "prior_month_2_e_statement_flag       22\n",
            "prior_month_3_e_statement_flag      692\n",
            "prior_month_4_e_statement_flag     1208\n",
            "prior_month_5_e_statement_flag     1755\n",
            "prior_month_6_e_statement_flag     2497\n",
            "Length: 65, dtype: int64\n"
          ]
        }
      ]
    },
    {
      "cell_type": "markdown",
      "source": [
        "**Data Preparation:**\n",
        "\n",
        "Based on our initial analysis and understanding of the data, we will now prepare the data prior to digging deeper into visualizations.\n",
        "The following steps were taken:\n",
        "\n",
        "\n",
        "*   Drop a number of fields not needed (Step 1 below)\n",
        "*   Populate the NaN values - in all cases, we can update to zero safely\n",
        "*   Create summary columns for total fees, total refunds, percentage of fees refunded, average balance changes; binary flag for direct deposit being present, binary flag for online banking being present (after which we drop the component columns used to build summary)\n",
        "*   Create one-hot encoding for product types\n",
        "\n",
        "\n",
        "\n"
      ],
      "metadata": {
        "id": "ulg4bUl8kkvl"
      }
    },
    {
      "cell_type": "code",
      "source": [
        "#Step 1 - Drop Fields NOT to be used\n",
        "cust_data_temp = cust_data\n",
        "cust_data_temp = cust_data_temp.drop(['application_code','opened_month_end_date','closed_month_end_date','event_month_product_code','event_month_product_category','prior_month_1_to_event_date',\n",
        "                                     'prior_month_2_to_event_date','prior_month_3_to_event_date','prior_month_4_to_event_date','prior_month_5_to_event_date','prior_month_6_to_event_date',\n",
        "                                     'prior_month_1_interest_rate','prior_month_2_interest_rate','prior_month_3_interest_rate','prior_month_4_interest_rate','prior_month_5_interest_rate',\n",
        "                                     'prior_month_6_interest_rate','prior_month_2_online_banking_flag','prior_month_3_online_banking_flag','prior_month_4_online_banking_flag',\n",
        "                                     'prior_month_5_online_banking_flag','prior_month_6_online_banking_flag','prior_month_1_e_statement_flag','prior_month_2_e_statement_flag',\n",
        "                                     'prior_month_3_e_statement_flag','prior_month_4_e_statement_flag','prior_month_5_e_statement_flag','prior_month_6_e_statement_flag'], axis=1)\n",
        "#Step 2 - REmediate the NaN values\n",
        "cust_data_temp.fillna(0, inplace=True)\n",
        "#cust_data_temp.info()\n",
        "\n",
        "#Step 3 - Create Summary Columns\n",
        "cust_data_temp['total_fees'] = (cust_data_temp['prior_month_1_fee_total'] + cust_data_temp['prior_month_2_fee_total'] + cust_data_temp['prior_month_3_fee_total'] +\n",
        "                                cust_data_temp['prior_month_4_fee_total'] + cust_data_temp['prior_month_5_fee_total'] + cust_data_temp['prior_month_6_fee_total'])\n",
        "cust_data_temp['total_refunds'] = (cust_data_temp['prior_month_1_fee_refund_total'] + cust_data_temp['prior_month_2_fee_refund_total'] + cust_data_temp['prior_month_3_fee_refund_total'] +\n",
        "                                cust_data_temp['prior_month_4_fee_refund_total'] + cust_data_temp['prior_month_5_fee_refund_total'] + cust_data_temp['prior_month_6_fee_refund_total'])\n",
        "cust_data_temp['total_fee_refund_pct'] = cust_data_temp['total_refunds'] / (abs(cust_data_temp['total_fees']) + cust_data_temp['total_refunds'])\n",
        "cust_data_temp.loc[cust_data_temp['total_fee_refund_pct'].isna(), 'total_fee_refund_pct'] = 0\n",
        "cust_data_temp['avg_bal_change'] = cust_data_temp['prior_month_1_average_balance'] - cust_data_temp['prior_month_2_average_balance']\n",
        "cust_data_temp['has_direct_dep'] = 0\n",
        "cust_data_temp.loc[cust_data_temp['prior_month_1_direct_deposit_total'] > 0, 'has_direct_dep'] = 1\n",
        "#Step 4 - Convert boolean to 0 and 1\n",
        "cust_data_temp['prior_month_1_online_banking_flag'] = cust_data_temp['prior_month_1_online_banking_flag'].map({'Y': 1, 'N': 0})\n",
        "\n",
        "\n",
        "#Step 5 - Apply One-Hot Encoding\n",
        "cust_data_temp = pd.get_dummies(cust_data_temp, columns=['event_month_product_description'])\n",
        "cust_data_temp.head()\n",
        "\n",
        "#Step 6 - Drop Remaining Columns not used\n",
        "cust_data_temp.drop(['event_month','event_month_branch_number','prior_month_2_direct_deposit_total','prior_month_3_direct_deposit_total','prior_month_4_direct_deposit_total','prior_month_5_direct_deposit_total',\n",
        "                     'prior_month_6_direct_deposit_total','prior_month_1_fee_total','prior_month_2_fee_total','prior_month_3_fee_total','prior_month_4_fee_total',\n",
        "                     'prior_month_5_fee_total','prior_month_6_fee_total','prior_month_1_fee_refund_total','prior_month_2_fee_refund_total','prior_month_3_fee_refund_total',\n",
        "                     'prior_month_4_fee_refund_total','prior_month_5_fee_refund_total','prior_month_6_fee_refund_total','prior_month_2_average_balance',\n",
        "                     'prior_month_3_average_balance','prior_month_4_average_balance','prior_month_5_average_balance','prior_month_6_average_balance',\n",
        "                     'prior_month_1_od_nsf_items','prior_month_2_od_nsf_items','prior_month_3_od_nsf_items','prior_month_4_od_nsf_items','prior_month_5_od_nsf_items',\n",
        "                     'prior_month_6_od_nsf_items'],axis=1, inplace=True)\n",
        "\n",
        "cust_data_temp.fillna(0, inplace=True)\n",
        "\n",
        "cust_data_temp.info()"
      ],
      "metadata": {
        "colab": {
          "base_uri": "https://localhost:8080/"
        },
        "id": "m1IbbdEhkuFt",
        "outputId": "639d7f8d-aef9-48b7-a1ef-ccf05541221b"
      },
      "execution_count": 117,
      "outputs": [
        {
          "output_type": "stream",
          "name": "stdout",
          "text": [
            "<class 'pandas.core.frame.DataFrame'>\n",
            "RangeIndex: 41352 entries, 0 to 41351\n",
            "Data columns (total 29 columns):\n",
            " #   Column                                                   Non-Null Count  Dtype  \n",
            "---  ------                                                   --------------  -----  \n",
            " 0   row_number_acct                                          41352 non-null  int64  \n",
            " 1   closed_ind                                               41352 non-null  float64\n",
            " 2   months_open                                              41352 non-null  int64  \n",
            " 3   prior_month_1_direct_deposit_total                       41352 non-null  float64\n",
            " 4   prior_month_1_average_balance                            41352 non-null  int64  \n",
            " 5   prior_month_1_online_banking_flag                        41352 non-null  float64\n",
            " 6   total_fees                                               41352 non-null  float64\n",
            " 7   total_refunds                                            41352 non-null  float64\n",
            " 8   total_fee_refund_pct                                     41352 non-null  float64\n",
            " 9   avg_bal_change                                           41352 non-null  float64\n",
            " 10  has_direct_dep                                           41352 non-null  int64  \n",
            " 11  event_month_product_description_ADVANTAGE MONEY MARKET   41352 non-null  bool   \n",
            " 12  event_month_product_description_ALUMNI CHECKING          41352 non-null  bool   \n",
            " 13  event_month_product_description_BANK OWNED OPER ACCT     41352 non-null  bool   \n",
            " 14  event_month_product_description_BUSINESS CHECKING        41352 non-null  bool   \n",
            " 15  event_month_product_description_FREE CHECKING            41352 non-null  bool   \n",
            " 16  event_month_product_description_INTEREST CHECKING        41352 non-null  bool   \n",
            " 17  event_month_product_description_JMU CHECKING             41352 non-null  bool   \n",
            " 18  event_month_product_description_LOYALTY CHECKING         41352 non-null  bool   \n",
            " 19  event_month_product_description_MB PRIVATE BANKING       41352 non-null  bool   \n",
            " 20  event_month_product_description_PREFERRED CHECKING       41352 non-null  bool   \n",
            " 21  event_month_product_description_PRESTIGE 50              41352 non-null  bool   \n",
            " 22  event_month_product_description_PRISM CHECKING           41352 non-null  bool   \n",
            " 23  event_month_product_description_SOLUTIONS CHECKING       41352 non-null  bool   \n",
            " 24  event_month_product_description_SUPER INTEREST CHECKING  41352 non-null  bool   \n",
            " 25  event_month_product_description_TEAMMATE CHECKING        41352 non-null  bool   \n",
            " 26  event_month_product_description_THANKU CHECKING          41352 non-null  bool   \n",
            " 27  event_month_product_description_THE CLUB                 41352 non-null  bool   \n",
            " 28  event_month_product_description_TRANSITION CHECKING      41352 non-null  bool   \n",
            "dtypes: bool(18), float64(7), int64(4)\n",
            "memory usage: 4.2 MB\n"
          ]
        }
      ]
    },
    {
      "cell_type": "markdown",
      "source": [
        "**Data Visualizations and Analysis**"
      ],
      "metadata": {
        "id": "BMuUf7_Uk76W"
      }
    },
    {
      "cell_type": "markdown",
      "source": [
        "**Open and Closed Accounts**"
      ],
      "metadata": {
        "id": "S61Rqtt2k_O5"
      }
    },
    {
      "cell_type": "code",
      "source": [
        "plot = sns.countplot(x='closed_ind', data=cust_data_temp)\n",
        "\n",
        "# Customize x-axis labels\n",
        "new_labels = ['Open Accounts','Closed Accounts']\n",
        "plot.set_xticklabels(new_labels)\n",
        "plt.xlabel('')\n",
        "plt.ylabel('Number of Accounts')\n",
        "plt.show()"
      ],
      "metadata": {
        "colab": {
          "base_uri": "https://localhost:8080/",
          "height": 430
        },
        "id": "tnEvAaDqkNFZ",
        "outputId": "2e7f365b-9164-4666-8640-0b6ac190f1f2"
      },
      "execution_count": 118,
      "outputs": [
        {
          "output_type": "display_data",
          "data": {
            "text/plain": [
              "<Figure size 640x480 with 1 Axes>"
            ],
            "image/png": "[encoded data removed]"
          },
          "metadata": {}
        }
      ]
    },
    {
      "cell_type": "markdown",
      "source": [
        "**Fees & Refunds for Closures**\n",
        "\n",
        "\n",
        "*   As expected, the total fees assigned to closed accounts is substantially higher than for accounts that remained open (approx. 3X rate)\n",
        "*   What is not expected is that the rate of fees refunded is substantially higher for closed accounts on a % basis\n",
        "\n"
      ],
      "metadata": {
        "id": "ZKLyuUyvmQ17"
      }
    },
    {
      "cell_type": "code",
      "source": [
        "cust_data_temp.groupby('closed_ind')['total_fees'].mean()\n"
      ],
      "metadata": {
        "colab": {
          "base_uri": "https://localhost:8080/",
          "height": 178
        },
        "id": "46-Mw8VrmdA-",
        "outputId": "b8f99d4f-abe2-4bf0-81dd-7fb5c06eed86"
      },
      "execution_count": 119,
      "outputs": [
        {
          "output_type": "execute_result",
          "data": {
            "text/plain": [
              "closed_ind\n",
              "0.0    -34.683110\n",
              "1.0   -107.637566\n",
              "Name: total_fees, dtype: float64"
            ],
            "text/html": [
              "<div>\n",
              "<style scoped>\n",
              "    .dataframe tbody tr th:only-of-type {\n",
              "        vertical-align: middle;\n",
              "    }\n",
              "\n",
              "    .dataframe tbody tr th {\n",
              "        vertical-align: top;\n",
              "    }\n",
              "\n",
              "    .dataframe thead th {\n",
              "        text-align: right;\n",
              "    }\n",
              "</style>\n",
              "<table border=\"1\" class=\"dataframe\">\n",
              "  <thead>\n",
              "    <tr style=\"text-align: right;\">\n",
              "      <th></th>\n",
              "      <th>total_fees</th>\n",
              "    </tr>\n",
              "    <tr>\n",
              "      <th>closed_ind</th>\n",
              "      <th></th>\n",
              "    </tr>\n",
              "  </thead>\n",
              "  <tbody>\n",
              "    <tr>\n",
              "      <th>0.0</th>\n",
              "      <td>-34.683110</td>\n",
              "    </tr>\n",
              "    <tr>\n",
              "      <th>1.0</th>\n",
              "      <td>-107.637566</td>\n",
              "    </tr>\n",
              "  </tbody>\n",
              "</table>\n",
              "</div><br><label><b>dtype:</b> float64</label>"
            ]
          },
          "metadata": {},
          "execution_count": 119
        }
      ]
    },
    {
      "cell_type": "code",
      "source": [
        "cust_data_temp.groupby('closed_ind')['total_fee_refund_pct'].mean()\n"
      ],
      "metadata": {
        "colab": {
          "base_uri": "https://localhost:8080/",
          "height": 178
        },
        "id": "PlZJcigLpBeK",
        "outputId": "31ab4689-efba-4f3f-95b0-07cf2aaa0b78"
      },
      "execution_count": 120,
      "outputs": [
        {
          "output_type": "execute_result",
          "data": {
            "text/plain": [
              "closed_ind\n",
              "0.0    0.007003\n",
              "1.0    0.019535\n",
              "Name: total_fee_refund_pct, dtype: float64"
            ],
            "text/html": [
              "<div>\n",
              "<style scoped>\n",
              "    .dataframe tbody tr th:only-of-type {\n",
              "        vertical-align: middle;\n",
              "    }\n",
              "\n",
              "    .dataframe tbody tr th {\n",
              "        vertical-align: top;\n",
              "    }\n",
              "\n",
              "    .dataframe thead th {\n",
              "        text-align: right;\n",
              "    }\n",
              "</style>\n",
              "<table border=\"1\" class=\"dataframe\">\n",
              "  <thead>\n",
              "    <tr style=\"text-align: right;\">\n",
              "      <th></th>\n",
              "      <th>total_fee_refund_pct</th>\n",
              "    </tr>\n",
              "    <tr>\n",
              "      <th>closed_ind</th>\n",
              "      <th></th>\n",
              "    </tr>\n",
              "  </thead>\n",
              "  <tbody>\n",
              "    <tr>\n",
              "      <th>0.0</th>\n",
              "      <td>0.007003</td>\n",
              "    </tr>\n",
              "    <tr>\n",
              "      <th>1.0</th>\n",
              "      <td>0.019535</td>\n",
              "    </tr>\n",
              "  </tbody>\n",
              "</table>\n",
              "</div><br><label><b>dtype:</b> float64</label>"
            ]
          },
          "metadata": {},
          "execution_count": 120
        }
      ]
    },
    {
      "cell_type": "code",
      "source": [
        "plot = sns.boxplot(x='closed_ind', y='total_fee_refund_pct', data=cust_data_temp)\n",
        "new_labels = ['Open Accounts','Closed Accounts']\n",
        "plot.set_xticklabels(new_labels)\n",
        "plt.ylabel('% of Fees Refunded')\n",
        "plt.xlabel('')\n",
        "plt.show()"
      ],
      "metadata": {
        "colab": {
          "base_uri": "https://localhost:8080/",
          "height": 430
        },
        "id": "5cwvxv1LoC3F",
        "outputId": "ebf5048e-bdfc-4465-9901-2e153bb445ce"
      },
      "execution_count": 121,
      "outputs": [
        {
          "output_type": "display_data",
          "data": {
            "text/plain": [
              "<Figure size 640x480 with 1 Axes>"
            ],
            "image/png": "[encoded data removed]"
          },
          "metadata": {}
        }
      ]
    },
    {
      "cell_type": "code",
      "source": [
        "plt.hist(cust_data_temp.query(\"closed_ind == 1\")['total_fees'], color='lightgreen', ec='black', bins=50)\n",
        "plt.xlim(-1000, 0)\n",
        "plt.ylabel('Number of Accounts')\n",
        "plt.xlabel('Total Fees')\n",
        "plt.title('Closed Accounts - Fees Assigned')\n",
        "plt.show()\n",
        "plt.hist(cust_data_temp.query(\"closed_ind == 0\")['total_fees'], color='lightgreen', ec='black', bins=50)\n",
        "plt.xlim(-1000, 0)\n",
        "plt.ylabel('Number of Accounts')\n",
        "plt.xlabel('Total Fees')\n",
        "plt.title('Open Accounts - Fees Assigned')\n",
        "plt.show()\n"
      ],
      "metadata": {
        "colab": {
          "base_uri": "https://localhost:8080/",
          "height": 927
        },
        "id": "ZtgaCmH3uOix",
        "outputId": "355bf358-4ffb-4b9f-e01b-e8bdfa0a81ab"
      },
      "execution_count": 122,
      "outputs": [
        {
          "output_type": "display_data",
          "data": {
            "text/plain": [
              "<Figure size 640x480 with 1 Axes>"
            ],
            "image/png": "[encoded data removed]"
          },
          "metadata": {}
        },
        {
          "output_type": "display_data",
          "data": {
            "text/plain": [
              "<Figure size 640x480 with 1 Axes>"
            ],
            "image/png": "[encoded data removed]"
          },
          "metadata": {}
        }
      ]
    },
    {
      "cell_type": "markdown",
      "source": [
        "**Tenure of Accounts**\n",
        "\n",
        "\n",
        "*   The assumption is that longer tenure accounts are less likely to close and there seems to be some grounding behind that assertion\n",
        "\n"
      ],
      "metadata": {
        "id": "qy6LYzfp1aZt"
      }
    },
    {
      "cell_type": "code",
      "source": [
        "plt.hist(cust_data_temp.query(\"closed_ind == 1\")['months_open'], color='lightgreen', ec='black', bins=50)\n",
        "\n",
        "plt.ylabel('Number of Accounts')\n",
        "plt.xlabel('Age in Months')\n",
        "plt.title('Closed Accounts - By Tenure')\n",
        "plt.show()\n",
        "plt.hist(cust_data_temp.query(\"closed_ind == 0\")['months_open'], color='lightgreen', ec='black', bins=50)\n",
        "\n",
        "plt.ylabel('Number of Accounts')\n",
        "plt.xlabel('Age in Months')\n",
        "plt.title('Open Accounts - By Tenure')\n",
        "plt.show()"
      ],
      "metadata": {
        "colab": {
          "base_uri": "https://localhost:8080/",
          "height": 927
        },
        "id": "lKPrJz0w0VaT",
        "outputId": "2e230fc1-defe-4e5a-a0ea-f48f91ed5077"
      },
      "execution_count": 123,
      "outputs": [
        {
          "output_type": "display_data",
          "data": {
            "text/plain": [
              "<Figure size 640x480 with 1 Axes>"
            ],
            "image/png": "[encoded data removed]"
          },
          "metadata": {}
        },
        {
          "output_type": "display_data",
          "data": {
            "text/plain": [
              "<Figure size 640x480 with 1 Axes>"
            ],
            "image/png": "[encoded data removed]"
          },
          "metadata": {}
        }
      ]
    },
    {
      "cell_type": "markdown",
      "source": [
        "**Direct Deposit **\n",
        "\n",
        "*   There is a 3X rate of customers remaining open having direct deposit - it would appear that NOT having direct deposit can influence likelihood to close the account\n"
      ],
      "metadata": {
        "id": "ER5KN4fU2GK0"
      }
    },
    {
      "cell_type": "code",
      "source": [
        "dd_for_open = cust_data_temp.query(\"closed_ind == 0\")['has_direct_dep'].sum() / len(cust_data_temp.query(\"closed_ind == 0\"))\n",
        "dd_for_closed = cust_data_temp.query(\"closed_ind == 1\")['has_direct_dep'].sum() / len(cust_data_temp.query(\"closed_ind == 1\"))\n",
        "print(\"The % of open accounts with direct deposit is: \" + str(dd_for_open))\n",
        "print(\"The % of closed accounts with direct deposit is: \" + str(dd_for_closed))"
      ],
      "metadata": {
        "colab": {
          "base_uri": "https://localhost:8080/"
        },
        "id": "YsItqPNI2JsY",
        "outputId": "94de404c-46cf-4e47-ee4f-2f991371c268"
      },
      "execution_count": 124,
      "outputs": [
        {
          "output_type": "stream",
          "name": "stdout",
          "text": [
            "The % of open accounts with direct deposit is: 0.602378842614682\n",
            "The % of closed accounts with direct deposit is: 0.21723563696919235\n"
          ]
        }
      ]
    },
    {
      "cell_type": "markdown",
      "source": [
        "**Customer Balances**"
      ],
      "metadata": {
        "id": "NpWQ6Mf23mnL"
      }
    },
    {
      "cell_type": "code",
      "source": [
        "plt.hist(cust_data_temp.query(\"closed_ind == 1\")['avg_bal_change'], color='lightgreen', ec='black', bins=5000)\n",
        "\n",
        "plt.ylabel('Number of Accounts')\n",
        "plt.xlabel('$ Change')\n",
        "plt.title('Closed Accounts - 6 Month Change in Balance')\n",
        "plt.xlim(-5000, 5000)\n",
        "plt.show()\n",
        "plt.hist(cust_data_temp.query(\"closed_ind == 0\")['avg_bal_change'], color='lightgreen', ec='black', bins=5000)\n",
        "plt.ylabel('Number of Accounts')\n",
        "plt.xlabel('$ Change')\n",
        "plt.xlim(-5000, 5000)\n",
        "plt.title('Open Accounts - 6 Month Change in Balance')\n",
        "plt.show()"
      ],
      "metadata": {
        "id": "vbTo55m5xs5I",
        "colab": {
          "base_uri": "https://localhost:8080/",
          "height": 927
        },
        "outputId": "bc06f2a4-303b-463b-b2be-96b716bfeb05"
      },
      "execution_count": 125,
      "outputs": [
        {
          "output_type": "display_data",
          "data": {
            "text/plain": [
              "<Figure size 640x480 with 1 Axes>"
            ],
            "image/png": "[encoded data removed]"
          },
          "metadata": {}
        },
        {
          "output_type": "display_data",
          "data": {
            "text/plain": [
              "<Figure size 640x480 with 1 Axes>"
            ],
            "image/png": "[encoded data removed]"
          },
          "metadata": {}
        }
      ]
    },
    {
      "cell_type": "markdown",
      "source": [
        "**Presence of Online Banking**\n",
        "\n",
        "*   The presence of online banking does not appear to be as substantial a driver of customer closure as expected\n",
        "\n",
        "\n"
      ],
      "metadata": {
        "id": "lDclwHQK5HYg"
      }
    },
    {
      "cell_type": "code",
      "source": [
        "ob_for_open = cust_data_temp.query(\"closed_ind == 0\")['prior_month_1_online_banking_flag'].sum() / len(cust_data_temp.query(\"closed_ind == 0\"))\n",
        "ob_for_closed = cust_data_temp.query(\"closed_ind == 1\")['prior_month_1_online_banking_flag'].sum() / len(cust_data_temp.query(\"closed_ind == 1\"))\n",
        "print(\"The % of open accounts with direct deposit is: \" + str(ob_for_open))\n",
        "print(\"The % of closed accounts with direct deposit is: \" + str(ob_for_closed))"
      ],
      "metadata": {
        "colab": {
          "base_uri": "https://localhost:8080/"
        },
        "id": "Z1q7vBYV5Jre",
        "outputId": "e74a1b3d-da75-4c8e-b06b-d0d806629312"
      },
      "execution_count": 126,
      "outputs": [
        {
          "output_type": "stream",
          "name": "stdout",
          "text": [
            "The % of open accounts with direct deposit is: 0.7682502896871379\n",
            "The % of closed accounts with direct deposit is: 0.790924229808493\n"
          ]
        }
      ]
    },
    {
      "cell_type": "markdown",
      "source": [
        "**Creation of First Simple Model**\n",
        "\n",
        "\n",
        "*   The initial model chosen for this was logistic regression.  I chose this model because of it's simplicity and interpretability.  The latter will be most important because it will be needed to drive \"actions\" to mitigate the risk of attrition which is the ultimate goal\n",
        "*   An initial accuracy of  66.4% was achieved and is a pretty solid initial result without any additional fine tuning performed.\n",
        "*   Additionally, when looking at the confusion matrix, it is also important to note that the real \"risk\" population are those that we \"predicted\" would not attrite that DID...the risk of predicting an attrite when it DIDN'T happen is lower risk because the actions we would take proactively would likely be no regret moves for that population\n",
        "*   List item\n",
        "\n",
        "\n",
        "\n"
      ],
      "metadata": {
        "id": "FrLNKJOF5ke9"
      }
    },
    {
      "cell_type": "code",
      "source": [
        "#Create simple model\n",
        "\n",
        "#Create features and target\n",
        "X = cust_data_temp.drop('closed_ind', axis=1)\n",
        "y = cust_data_temp['closed_ind']\n",
        "\n",
        "#Split into training and test sets\n",
        "X_train, X_test, y_train, y_test = train_test_split(X, y, test_size=0.2, random_state=42, stratify=y)\n",
        "#Look at stratify parameter - stratify=target\n",
        "\n",
        "#Create Linear Regression Model and Fit\n",
        "log_reg = LogisticRegression(max_iter=10000, class_weight='balanced')\n",
        "log_reg.fit(X_train, y_train)\n",
        "\n",
        "#Make predictions on the test set\n",
        "y_pred = log_reg.predict(X_test)\n",
        "\n",
        "#Calculate Accuracy Metrics\n",
        "mse = mean_squared_error(y_test, y_pred)\n",
        "r2 = r2_score(y_test, y_pred)\n",
        "acc_score = log_reg.score(X_test, y_test)\n",
        "\n",
        "print(\"Mean Squared Error:\", mse)\n",
        "print(\"R-squared:\", r2)\n",
        "print(\"Accuracy Score:\", acc_score)\n",
        "\n",
        "cm = confusion_matrix(y_test, y_pred)\n",
        "disp = ConfusionMatrixDisplay(confusion_matrix=cm, display_labels=log_reg.classes_)\n",
        "disp.plot(cmap='Blues')"
      ],
      "metadata": {
        "colab": {
          "base_uri": "https://localhost:8080/",
          "height": 518
        },
        "id": "1MuoBxTVs6ga",
        "outputId": "3bbac2bf-4885-468b-c18b-59eaf9cfb299"
      },
      "execution_count": 127,
      "outputs": [
        {
          "output_type": "stream",
          "name": "stdout",
          "text": [
            "Mean Squared Error: 0.33635594244952244\n",
            "R-squared: -0.6322175151081717\n",
            "Accuracy Score: 0.6636440575504776\n"
          ]
        },
        {
          "output_type": "execute_result",
          "data": {
            "text/plain": [
              "<sklearn.metrics._plot.confusion_matrix.ConfusionMatrixDisplay at 0x7dbd0b964fd0>"
            ]
          },
          "metadata": {},
          "execution_count": 127
        },
        {
          "output_type": "display_data",
          "data": {
            "text/plain": [
              "<Figure size 640x480 with 2 Axes>"
            ],
            "image/png": "[encoded data removed]"
          },
          "metadata": {}
        }
      ]
    },
    {
      "cell_type": "code",
      "source": [
        "from sklearn.feature_selection import RFE\n",
        "\n",
        "# Fit the model\n",
        "model = LinearRegression()\n",
        "rfe = RFE(model, n_features_to_select=1)\n",
        "rfe.fit(X_train, y_train)\n",
        "\n",
        "# Get the ranking of features\n",
        "ranking = pd.DataFrame(rfe.ranking_, X.columns, columns=['Ranking'])\n",
        "print(ranking)"
      ],
      "metadata": {
        "colab": {
          "base_uri": "https://localhost:8080/"
        },
        "id": "gEff51nlzzWu",
        "outputId": "d09ad4b6-8cad-4f14-8d14-da2dc2b6d08f"
      },
      "execution_count": 128,
      "outputs": [
        {
          "output_type": "stream",
          "name": "stdout",
          "text": [
            "                                                    Ranking\n",
            "row_number_acct                                          23\n",
            "months_open                                              21\n",
            "prior_month_1_direct_deposit_total                       24\n",
            "prior_month_1_average_balance                            26\n",
            "prior_month_1_online_banking_flag                        10\n",
            "total_fees                                               22\n",
            "total_refunds                                            19\n",
            "total_fee_refund_pct                                      1\n",
            "avg_bal_change                                           25\n",
            "has_direct_dep                                            2\n",
            "event_month_product_description_ADVANTAGE MONEY...        3\n",
            "event_month_product_description_ALUMNI CHECKING           6\n",
            "event_month_product_description_BANK OWNED OPER...       27\n",
            "event_month_product_description_BUSINESS CHECKING        28\n",
            "event_month_product_description_FREE CHECKING            15\n",
            "event_month_product_description_INTEREST CHECKING        16\n",
            "event_month_product_description_JMU CHECKING              5\n",
            "event_month_product_description_LOYALTY CHECKING         12\n",
            "event_month_product_description_MB PRIVATE BANKING        9\n",
            "event_month_product_description_PREFERRED CHECKING       13\n",
            "event_month_product_description_PRESTIGE 50              14\n",
            "event_month_product_description_PRISM CHECKING           20\n",
            "event_month_product_description_SOLUTIONS CHECKING        8\n",
            "event_month_product_description_SUPER INTEREST ...       17\n",
            "event_month_product_description_TEAMMATE CHECKING        11\n",
            "event_month_product_description_THANKU CHECKING          18\n",
            "event_month_product_description_THE CLUB                  7\n",
            "event_month_product_description_TRANSITION CHEC...        4\n"
          ]
        }
      ]
    }
  ]
}